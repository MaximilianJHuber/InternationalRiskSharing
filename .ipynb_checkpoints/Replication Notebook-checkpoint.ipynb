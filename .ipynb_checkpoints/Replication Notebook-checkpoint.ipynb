{
 "cells": [
  {
   "cell_type": "markdown",
   "metadata": {},
   "source": [
    "# Replication: Financial Intermediation, International Risk Sharing, and Reserve Currencies"
   ]
  },
  {
   "cell_type": "markdown",
   "metadata": {},
   "source": [
    "## Autarky"
   ]
  },
  {
   "cell_type": "code",
   "execution_count": 1,
   "metadata": {},
   "outputs": [],
   "source": [
    "mutable struct GertlerKiyotakiModel\n",
    "    \n",
    "    # utility function \n",
    "    ρ::Float64\n",
    "    \n",
    "    # stochastic process dY/Y\n",
    "    μ::Float64\n",
    "    σ::Float64\n",
    "\n",
    "    # switching from financier to saver\n",
    "    λ::Float64\n",
    "    β::Float64\n",
    "    δ::Float64\n",
    "    \n",
    "end"
   ]
  },
  {
   "cell_type": "code",
   "execution_count": 2,
   "metadata": {},
   "outputs": [
    {
     "data": {
      "text/plain": [
       "GertlerKiyotakiModel"
      ]
     },
     "execution_count": 2,
     "metadata": {},
     "output_type": "execute_result"
    }
   ],
   "source": [
    "function GertlerKiyotakiModel(; ρ = 0.01, μ = 0.01, σ = 0.05, λ = 0.014, β = 1/3, δ = 0.004)\n",
    "    GertlerKiyotakiModel(ρ, μ, σ, λ, β, δ)\n",
    "end"
   ]
  },
  {
   "cell_type": "code",
   "execution_count": 3,
   "metadata": {},
   "outputs": [
    {
     "data": {
      "text/plain": [
       "initialize_y (generic function with 1 method)"
      ]
     },
     "execution_count": 3,
     "metadata": {},
     "output_type": "execute_result"
    }
   ],
   "source": [
    "function initialize_state(m::GertlerKiyotakiModel; N_grid_length = 100)\n",
    "    OrderedDict(:N => linspace(0.00001, 100., N_grid_length))\n",
    "end\n",
    "\n",
    "function initialize_y(m::GertlerKiyotakiModel, state)\n",
    "    OrderedDict(:Q => fill(0.1, length(state[:N])), \n",
    "        :Ω => fill(0.1, length(state[:N])))\n",
    "end"
   ]
  },
  {
   "cell_type": "code",
   "execution_count": 10,
   "metadata": {},
   "outputs": [],
   "source": [
    "function (m::GertlerKiyotakiModel)(state, y)\n",
    "    #unpack constants, state, current solution\n",
    "    ρ = m.ρ; μ = m.μ; σ = m.σ; λ = m.λ; β = m.β; δ = m.δ\n",
    "    N = state.N\n",
    "    Q = y.Q; QN = y.QN; QNN = y.QNN; Ω = y.Ω; ΩN = y.ΩN; ΩNN = y.ΩNN;\n",
    "    \n",
    "    # interest rate\n",
    "    rd = ρ + μ - σ^2\n",
    "    \n",
    "    # (dQ+Y)/Q\n",
    "    μQ = (1 + Q * (μ + QN * (δ - μ - ρ)) + N * QN * (ρ - λ)) / (Q * (1 - QN)) + \n",
    "        (Q - N) * QN * σ^2 / (Q * (1 - QN)) + (Q - N)^2 * QNN * σ^2 / (2 * Q * (1 - QN)^3)\n",
    "    σQ = (Q - N * QN) / (Q * (1 - QN)) * σ\n",
    "    \n",
    "    # dN/N process\n",
    "    μN = rd - λ - μ + σ^2 + Q/N * (μQ - rd + δ - σ * σQ)\n",
    "    σN = Q/N * σQ - σ\n",
    "    \n",
    "    # dΩ/Ω\n",
    "    μΩ = ΩN * N / Ω * μN + 1/2 * ΩNN * N^2 / Ω * σN^2\n",
    "    σΩ = ΩN * N / Ω * σN\n",
    "    \n",
    "    # PDE\n",
    "    Qt = μQ - rd - σ * σQ + σΩ * σQ\n",
    "    Ωt = λ * (1 - Ω) / Ω + μΩ - σ * σΩ\n",
    "    \n",
    "    return (Qt, Ωt), μN, tuple(:Q => Q, :Ω => Ω, :rd => rd)\n",
    "end"
   ]
  },
  {
   "cell_type": "code",
   "execution_count": 13,
   "metadata": {
    "scrolled": false
   },
   "outputs": [
    {
     "name": "stdout",
     "output_type": "stream",
     "text": [
      "(iter, Δ, distance) = (1, 1.0e-5, 120.43163196093421)\n",
      "(iter, Δ, distance) = (2, 6.63850066403483e-5, 15.023346878215715)\n",
      "(iter, Δ, distance) = (3, 0.0021286480974561984, 1.923896641097308)\n",
      "(iter, Δ, distance) = (4, 0.1329776998061547, 0.21881894034819283)\n",
      "(iter, Δ, NaN) = (5, 18.70663295166771, NaN)\n",
      "(iter, Δ, NaN) = (6, 1.870663295166771, NaN)\n",
      "(iter, Δ, distance) = (7, 0.1870663295166771, 0.11825203174796696)\n",
      "(iter, Δ, NaN) = (8, 0.6923120963690148, NaN)\n",
      "(iter, Δ, distance) = (9, 0.06923120963690148, 0.10206073255531276)\n",
      "(iter, Δ, distance) = (10, 0.1604286192144693, 0.08209232527260088)\n",
      "(iter, Δ, NaN) = (11, 0.7978072174467137, NaN)\n",
      "(iter, Δ, distance) = (12, 0.07978072174467137, 0.07533083048372032)\n",
      "(iter, Δ, distance) = (13, 0.17388325385213443, 0.06550327681420479)\n",
      "(iter, Δ, NaN) = (14, 0.7998848642058957, NaN)\n",
      "(iter, Δ, distance) = (15, 0.07998848642058956, 0.0620351796003385)\n",
      "(iter, Δ, distance) = (16, 0.16892053836912077, 0.05649773143187545)\n",
      "(iter, Δ, NaN) = (17, 0.7419070231908196, NaN)\n",
      "(iter, Δ, distance) = (18, 0.07419070231908195, 0.05456149003595526)\n",
      "(iter, Δ, distance) = (19, 0.15364706394944497, 0.05127081880539659)\n",
      "(iter, Δ, NaN) = (20, 0.6540338495900153, NaN)\n",
      "(iter, Δ, distance) = (21, 0.06540338495900153, 0.050217758628380155)\n",
      "(iter, Δ, distance) = (22, 0.13354977167768242, 0.04825747157953685)\n",
      "(iter, Δ, NaN) = (23, 0.555899012481955, NaN)\n",
      "(iter, Δ, distance) = (24, 0.055589901248195496, 0.04774443363952655)\n",
      "(iter, Δ, distance) = (25, 0.11237448536296664, 0.046564567738889034)\n"
     ]
    },
    {
     "name": "stderr",
     "output_type": "stream",
     "text": [
      "\u001b[1m\u001b[33mWARNING: \u001b[39m\u001b[22m\u001b[33mIteration did not converge\u001b[39m\n"
     ]
    },
    {
     "data": {
      "text/plain": [
       "(DataStructures.OrderedDict(:Q=>[-9.71939, -8.93914, -8.28668, -7.71075, -7.18361, -6.69712, -6.23808, -5.80957, -5.40601, -5.0286  …  -0.0588945, -0.0553666, -0.0522813, -0.0483196, -0.0471667, -0.039275, -0.0470138, -0.0243069, -0.0509618, -0.0198893],:Ω=>[0.000169625, 0.000829109, 0.00291036, 0.00657637, 0.0112253, 0.0160271, 0.0211783, 0.0259647, 0.0308164, 0.0353125  …  0.0979936, 0.0980408, 0.098074, 0.0981361, 0.0981271, 0.0982689, 0.098105, 0.0984808, 0.098052, 0.0985043]), DataStructures.OrderedDict(:Q=>[-9.71939, -8.93914, -8.28668, -7.71075, -7.18361, -6.69712, -6.23808, -5.80957, -5.40601, -5.0286  …  -0.0588945, -0.0553666, -0.0522813, -0.0483196, -0.0471667, -0.039275, -0.0470138, -0.0243069, -0.0509618, -0.0198893],:Ω=>[0.000169625, 0.000829109, 0.00291036, 0.00657637, 0.0112253, 0.0160271, 0.0211783, 0.0259647, 0.0308164, 0.0353125  …  0.0979936, 0.0980408, 0.098074, 0.0981361, 0.0981271, 0.0982689, 0.098105, 0.0984808, 0.098052, 0.0985043],:rd=>[0.0175, 0.0175, 0.0175, 0.0175, 0.0175, 0.0175, 0.0175, 0.0175, 0.0175, 0.0175  …  0.0175, 0.0175, 0.0175, 0.0175, 0.0175, 0.0175, 0.0175, 0.0175, 0.0175, 0.0175]), 0.046564567738889034)"
      ]
     },
     "execution_count": 13,
     "metadata": {},
     "output_type": "execute_result"
    }
   ],
   "source": [
    "using EconPDEs\n",
    "\n",
    "m = GertlerKiyotakiModel()\n",
    "state = initialize_state(m)\n",
    "y0 = initialize_y(m, state)\n",
    "y, result, distance = pdesolve(m, state, y0, iterations = 24, \n",
    "    inner_iterations = 100, Δ = 1e-5)"
   ]
  },
  {
   "cell_type": "markdown",
   "metadata": {},
   "source": [
    "That is not a meaningful solution!"
   ]
  },
  {
   "cell_type": "markdown",
   "metadata": {},
   "source": [
    "The explicit formulation in the appendix is not working either:"
   ]
  },
  {
   "cell_type": "code",
   "execution_count": 12,
   "metadata": {},
   "outputs": [],
   "source": [
    "function (m::GertlerKiyotakiModel)(state, y)\n",
    "    #unpack constants, state, current solution\n",
    "    ρ = m.ρ; μ = m.μ; σ = m.σ; λ = m.λ; β = m.β; δ = m.δ\n",
    "    N = state.N\n",
    "    Q = y.Q; QN = y.QN; QNN = y.QNN; Ω = y.Ω; ΩN = y.ΩN; ΩNN = y.ΩNN;\n",
    "    \n",
    "    # interest rate\n",
    "    rd = ρ + μ - σ^2\n",
    "    \n",
    "    # (dQ+Y)/Q\n",
    "    μQ = (1 + Q * (μ + QN * (δ - μ - ρ)) + N * QN * (ρ - λ)) / (Q * (1 - QN)) + \n",
    "        (Q - N) * QN * σ^2 / (Q * (1 - QN)) + (Q - N)^2 * QNN * σ^2 / (2 * Q * (1 - QN)^3)\n",
    "    σQ = (Q - N * QN) / (Q * (1 - QN)) * σ\n",
    "    \n",
    "    # dN/N process\n",
    "    μN = rd - λ - μ + σ^2 + Q/N * (μQ - rd + δ - σ * σQ)\n",
    "    \n",
    "    # PDE\n",
    "    Qt = 2 * (-1 + QN) * (\n",
    "        - (-1 + QN) * (1 + Q * (QN * δ - ρ) + N * QN * (-λ + ρ)) * Ω + (-N + Q) * (Q - N * QN) * σ^2 * ΩN\n",
    "        ) / (\n",
    "        (N - Q)^2 * σ^2 * Ω\n",
    "        ) - QNN\n",
    "    Ωt = (\n",
    "        2 * (-1 + QN)^2 * λ * Ω * (-1 + Ω + N * ΩN) + \n",
    "        2 * ΩN * (- (-1 + QN) * ((-1 + QN) * (Q * δ + N * ρ) + (-N + Q) * σ^2) * Ω)\n",
    "        ) / (\n",
    "        (N - Q)^2 * σ^2 * Ω\n",
    "        ) +\n",
    "        (2 * ΩN * (-N + Q) * (Q - N * QN) * σ^2 * ΩN) / ((N - Q)^2 * σ^2 * Ω) - ΩNN\n",
    "    \n",
    "    return (Qt, Ωt), μN, tuple(:Q => Q, :Ω => Ω, :rd => rd)\n",
    "end"
   ]
  },
  {
   "cell_type": "code",
   "execution_count": 14,
   "metadata": {
    "scrolled": false
   },
   "outputs": [
    {
     "name": "stdout",
     "output_type": "stream",
     "text": [
      "(iter, Δ, distance) = (1, 1.0e-5, 120.43163196093421)\n",
      "(iter, Δ, distance) = (2, 6.63850066403483e-5, 15.023346878215715)\n",
      "(iter, Δ, distance) = (3, 0.0021286480974561984, 1.923896641097308)\n",
      "(iter, Δ, distance) = (4, 0.1329776998061547, 0.21881894034819283)\n",
      "(iter, Δ, NaN) = (5, 18.70663295166771, NaN)\n",
      "(iter, Δ, NaN) = (6, 1.870663295166771, NaN)\n",
      "(iter, Δ, distance) = (7, 0.1870663295166771, 0.11825203174796696)\n",
      "(iter, Δ, NaN) = (8, 0.6923120963690148, NaN)\n",
      "(iter, Δ, distance) = (9, 0.06923120963690148, 0.10206073255531276)\n",
      "(iter, Δ, distance) = (10, 0.1604286192144693, 0.08209232527260088)\n",
      "(iter, Δ, NaN) = (11, 0.7978072174467137, NaN)\n",
      "(iter, Δ, distance) = (12, 0.07978072174467137, 0.07533083048372032)\n",
      "(iter, Δ, distance) = (13, 0.17388325385213443, 0.06550327681420479)\n",
      "(iter, Δ, NaN) = (14, 0.7998848642058957, NaN)\n",
      "(iter, Δ, distance) = (15, 0.07998848642058956, 0.0620351796003385)\n",
      "(iter, Δ, distance) = (16, 0.16892053836912077, 0.05649773143187545)\n",
      "(iter, Δ, NaN) = (17, 0.7419070231908196, NaN)\n",
      "(iter, Δ, distance) = (18, 0.07419070231908195, 0.05456149003595526)\n",
      "(iter, Δ, distance) = (19, 0.15364706394944497, 0.05127081880539659)\n",
      "(iter, Δ, NaN) = (20, 0.6540338495900153, NaN)\n",
      "(iter, Δ, distance) = (21, 0.06540338495900153, 0.050217758628380155)\n",
      "(iter, Δ, distance) = (22, 0.13354977167768242, 0.04825747157953685)\n",
      "(iter, Δ, NaN) = (23, 0.555899012481955, NaN)\n",
      "(iter, Δ, distance) = (24, 0.055589901248195496, 0.04774443363952655)\n",
      "(iter, Δ, distance) = (25, 0.11237448536296664, 0.046564567738889034)\n"
     ]
    },
    {
     "name": "stderr",
     "output_type": "stream",
     "text": [
      "\u001b[1m\u001b[33mWARNING: \u001b[39m\u001b[22m\u001b[33mIteration did not converge\u001b[39m\n"
     ]
    },
    {
     "data": {
      "text/plain": [
       "(DataStructures.OrderedDict(:Q=>[-9.71939, -8.93914, -8.28668, -7.71075, -7.18361, -6.69712, -6.23808, -5.80957, -5.40601, -5.0286  …  -0.0588945, -0.0553666, -0.0522813, -0.0483196, -0.0471667, -0.039275, -0.0470138, -0.0243069, -0.0509618, -0.0198893],:Ω=>[0.000169625, 0.000829109, 0.00291036, 0.00657637, 0.0112253, 0.0160271, 0.0211783, 0.0259647, 0.0308164, 0.0353125  …  0.0979936, 0.0980408, 0.098074, 0.0981361, 0.0981271, 0.0982689, 0.098105, 0.0984808, 0.098052, 0.0985043]), DataStructures.OrderedDict(:Q=>[-9.71939, -8.93914, -8.28668, -7.71075, -7.18361, -6.69712, -6.23808, -5.80957, -5.40601, -5.0286  …  -0.0588945, -0.0553666, -0.0522813, -0.0483196, -0.0471667, -0.039275, -0.0470138, -0.0243069, -0.0509618, -0.0198893],:Ω=>[0.000169625, 0.000829109, 0.00291036, 0.00657637, 0.0112253, 0.0160271, 0.0211783, 0.0259647, 0.0308164, 0.0353125  …  0.0979936, 0.0980408, 0.098074, 0.0981361, 0.0981271, 0.0982689, 0.098105, 0.0984808, 0.098052, 0.0985043],:rd=>[0.0175, 0.0175, 0.0175, 0.0175, 0.0175, 0.0175, 0.0175, 0.0175, 0.0175, 0.0175  …  0.0175, 0.0175, 0.0175, 0.0175, 0.0175, 0.0175, 0.0175, 0.0175, 0.0175, 0.0175]), 0.046564567738889034)"
      ]
     },
     "execution_count": 14,
     "metadata": {},
     "output_type": "execute_result"
    }
   ],
   "source": [
    "y, result, distance = pdesolve(m, state, y0, iterations = 24, \n",
    "    inner_iterations = 100, Δ = 1e-5)"
   ]
  },
  {
   "cell_type": "markdown",
   "metadata": {},
   "source": [
    "## Open Banking Economy with a single Tree"
   ]
  },
  {
   "cell_type": "code",
   "execution_count": null,
   "metadata": {},
   "outputs": [],
   "source": [
    "# \n",
    "mutable struct MaggioriSingleTreeModel\n",
    "    \n",
    "    # utility function \n",
    "    ρ::Float64\n",
    "    \n",
    "    # stochastic process dY/Y\n",
    "    μ::Float64\n",
    "    σ::Float64\n",
    "\n",
    "    # switching from financier to saver\n",
    "    λ::Float64\n",
    "    β::Float64\n",
    "    δ::Float64\n",
    "    \n",
    "end\n",
    "\n",
    "function MaggioriSingleTreeModel(; ρ = 0.01, μ = 0.01, σ = 0.05, λ = 0.014, β = 1/3, δ = 0.004)\n",
    "    MaggioriSingleTreeModel(ρ, μ, σ, λ, β, δ)\n",
    "end\n",
    "\n",
    "function initialize_state(m::MaggioriSingleTreeModel; Nstar_grid_length = 100)\n",
    "    OrderedDict(:Nstar => linspace(0.00001, 100., Nstar_grid_length))\n",
    "end\n",
    "\n",
    "function initialize_y(m::MaggioriSingleTreeModel, state)\n",
    "    OrderedDict(:Q => fill(0.1, length(state[:Nstar])), \n",
    "        :Ωstar => fill(0.1, length(state[:Nstar])))\n",
    "end"
   ]
  },
  {
   "cell_type": "code",
   "execution_count": null,
   "metadata": {},
   "outputs": [],
   "source": [
    "function (m::MaggioriSingleTreeModel)(state, y)\n",
    "    #unpack constants, state, current solution\n",
    "    ρ = m.ρ; μ = m.μ; σ = m.σ; λ = m.λ; β = m.β; δ = m.δ\n",
    "    Nstar = state.Nstar\n",
    "    Q = y.Q; QNstar = y.QNstar; QNstarNstar = y.QNstarNstar; \n",
    "    Ωstar = y.Ωstar; ΩstarNstar = y.ΩstarNstar; ΩstarNstarNstar = y.ΩstarNstarNstar;\n",
    "    \n",
    "    # interest rate\n",
    "    rd = ρ + μ - σ^2\n",
    "    \n",
    "    # (dQ+Y)/Q\n",
    "    μQ = (1 + Q * (μ + QN * (δ - μ - ρ)) + N * QN * (ρ - λ)) / (Q * (1 - QN)) + \n",
    "        (Q - N) * QN * σ^2 / (Q * (1 - QN)) + (Q - N)^2 * QNN * σ^2 / (2 * Q * (1 - QN)^3)\n",
    "    σQ = (Q - N * QN) / (Q * (1 - QN)) * σ\n",
    "    \n",
    "    # dN/N process\n",
    "    μN = rd - λ - μ + σ^2 + Q/N * (μQ - rd + δ - σ * σQ)\n",
    "    σN = Q/N * σQ - σ\n",
    "    \n",
    "    # dΩ/Ω\n",
    "    μΩ = ΩN * N / Ω * μN + 1/2 * ΩNN * N^2 / Ω * σN^2\n",
    "    σΩ = ΩN * N / Ω * σN\n",
    "    \n",
    "    # PDE\n",
    "    Qt = μQ - rd - σC * σQ\n",
    "    Ωt = μΩstar - σCstar * σΩstar\n",
    "    \n",
    "    return (Qt, Ωt), μN, tuple(:Q => Q, :Ω => Ω, :rd => rd)\n",
    "end\n",
    "\n"
   ]
  }
 ],
 "metadata": {
  "kernelspec": {
   "display_name": "Julia 0.6.2",
   "language": "julia",
   "name": "julia-0.6"
  },
  "language_info": {
   "file_extension": ".jl",
   "mimetype": "application/julia",
   "name": "julia",
   "version": "0.6.2"
  }
 },
 "nbformat": 4,
 "nbformat_minor": 2
}
